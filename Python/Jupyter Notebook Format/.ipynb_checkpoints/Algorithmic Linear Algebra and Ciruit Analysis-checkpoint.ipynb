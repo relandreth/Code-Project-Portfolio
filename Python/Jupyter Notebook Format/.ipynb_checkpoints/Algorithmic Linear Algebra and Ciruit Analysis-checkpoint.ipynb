{
 "cells": [
  {
   "cell_type": "markdown",
   "metadata": {},
   "source": [
    "# Linear Algebra"
   ]
  },
  {
   "cell_type": "code",
   "execution_count": 1,
   "metadata": {},
   "outputs": [],
   "source": [
    "import math\n",
    "import cmath\n",
    "import numpy as np\n",
    "import time\n",
    "import matplotlib.pyplot as plt\n",
    "import random\n",
    "import scipy.sparse as hungry\n",
    "from mpl_toolkits.mplot3d import Axes3D\n",
    "from scipy.sparse.linalg import eigsh"
   ]
  },
  {
   "cell_type": "markdown",
   "metadata": {},
   "source": [
    "## Basic Inversion Functions"
   ]
  },
  {
   "cell_type": "markdown",
   "metadata": {},
   "source": [
    "### QR Decomposition"
   ]
  },
  {
   "cell_type": "markdown",
   "metadata": {},
   "source": [
    "<font color = blue>\n",
    "Write a function that takes as input a square $N \\times B$ matrix $\\mathbb{M}$ and outputs a pair of matrices $[\\mathbb{Q}, \\mathbb{R}]$, where $\\mathbb{Q}$ is orthogonal, $\\mathbb{R}$ is upper triangular, and $\\mathbb{M} = \\mathbb{Q}\\mathbb{R}$.  Test your function on the matrix\n",
    "\n",
    ".\n",
    "\n",
    "$$\n",
    "\\mathbb{M} = \\left[\\begin{array}{cccc} 1 & 2 & 3 & 4 \\\\ 5 & 6 & 7 & 8 \\\\ 9 & 10 & 0 & 12 \\\\ 13 & 14 & 15 & 0 \\end{array}\\right]\n",
    "$$\n",
    "\n",
    ".\n",
    "\n",
    "Confirm that the function is working by checking all three features of your results: that $\\mathbb{Q}$ is orthogonal, that $\\mathbb{R}$ is upper triangular, and that $\\mathbb{M} = \\mathbb{Q}\\mathbb{R}$."
   ]
  },
  {
   "cell_type": "code",
   "execution_count": 2,
   "metadata": {},
   "outputs": [],
   "source": [
    "def decomp(matrixM):\n",
    "    N=int(len(matrixM[0]))\n",
    "    matrixQ = np.array([np.array([0.0]*N)]*N)\n",
    "    matrixR = np.array([np.array([0.0]*N)]*N)\n",
    "    \n",
    "    #set up the first step\n",
    "    MjVector = np.array([matrixM[0][i] for i in range(N)])\n",
    "    #first = np.array([matrixM[0][i] for i in range(N)])\n",
    "    matrixR[0][0] = np.linalg.norm(MjVector)\n",
    "    matrixQ[0] = MjVector/matrixR[0][0]\n",
    "    \n",
    "    #iterate through steps\n",
    "    for i in range(N):\n",
    "        #find current M sub j\n",
    "        MjVector = np.array([matrixM[j][i] for j in range(N)])\n",
    "        #create a placeholder value of the next R sub i,i\n",
    "        nextR = np.array([0.0]*N)\n",
    "        \n",
    "        for j in range(i):\n",
    "            #calculate the previous R values for i < j\n",
    "            matrixR[j][i] = np.dot(matrixQ[j],MjVector)\n",
    "            #populate this placeholder with the dot products of the current Q and Mj multiplied by the current Q\n",
    "            nextR -= np.dot(matrixQ[j],MjVector) * matrixQ[j]\n",
    "        \n",
    "        #the placeholder is a vector, so add the first M vector and then use it to create the next R_i,i and Q_i\n",
    "        nextR += MjVector\n",
    "        matrixQ[i] = nextR/np.linalg.norm(nextR)\n",
    "        matrixR[i][i] = np.linalg.norm(nextR)\n",
    "        \n",
    "    return matrixQ.transpose() , matrixR\n",
    "        "
   ]
  },
  {
   "cell_type": "code",
   "execution_count": 3,
   "metadata": {},
   "outputs": [
    {
     "name": "stdout",
     "output_type": "stream",
     "text": [
      "[[ 1.00000000e+00  2.00000000e+00  3.00000000e+00  4.00000000e+00]\n",
      " [ 5.00000000e+00  6.00000000e+00  7.00000000e+00  8.00000000e+00]\n",
      " [ 9.00000000e+00  1.00000000e+01 -3.33066907e-16  1.20000000e+01]\n",
      " [ 1.30000000e+01  1.40000000e+01  1.50000000e+01  0.00000000e+00]] \n",
      " \n",
      " [[16.61324773 18.29864967 14.02495188  9.14932483]\n",
      " [ 0.          1.0767638   1.26519747  7.96805215]\n",
      " [ 0.          0.          9.20326029 -7.6494631 ]\n",
      " [ 0.          0.          0.          4.27617987]] \n",
      " \n",
      " [[ 1.00000000e+00 -6.20337115e-15  1.19071419e-14  1.06858966e-15]\n",
      " [-6.20337115e-15  1.00000000e+00 -8.45157277e-15  5.05151476e-15]\n",
      " [ 1.19071419e-14 -8.45157277e-15  1.00000000e+00  2.16146545e-15]\n",
      " [ 1.06858966e-15  5.05151476e-15  2.16146545e-15  1.00000000e+00]]\n"
     ]
    }
   ],
   "source": [
    "nn = np.array([[1,2],[3,0]])\n",
    "mmm = np.array([[1,2,3,4],[5,6,7,8],[9,10,0,12],[13,14,15,0]])\n",
    "\n",
    "this = decomp(nn)\n",
    "that = decomp(mmm)\n",
    "\n",
    "#print(np.matmul(this[0], this[1]),\"\\n\",\"\\n\",this[1],\"\\n\",\"\\n\",np.matmul(this[0],this[0].transpose()),\"\\n\",\"\\n\")\n",
    "\n",
    "print(np.matmul(that[0], that[1]),\"\\n\",\"\\n\",that[1],\"\\n\",\"\\n\",np.matmul(that[0],that[0].transpose()))"
   ]
  },
  {
   "cell_type": "markdown",
   "metadata": {},
   "source": [
    "### Failure Mode"
   ]
  },
  {
   "cell_type": "markdown",
   "metadata": {},
   "source": [
    "<font color = blue>\n",
    "Now test your function on the matrix\n",
    "\n",
    ".\n",
    "\n",
    "$$\n",
    "\\mathbb{M} = \\left[\\begin{array}{cccc} 1 & 2 & 3 & 4 \\\\ 5 & 6 & 7 & 8 \\\\ 9 & 10 & 11 & 12 \\\\ 13 & 14 & 15 & 16 \\end{array}\\right]\n",
    "$$\n",
    "\n",
    ".\n",
    "\n",
    "What goes wrong?  Explain why the matrix above is unsuitable for QR decomposition"
   ]
  },
  {
   "cell_type": "markdown",
   "metadata": {},
   "source": [
    "This is not a tranposable matrix, so the basic solution and what our algorithm effectively does, $x = M^{-1}b$, doesn't work."
   ]
  },
  {
   "cell_type": "markdown",
   "metadata": {},
   "source": [
    "### Inverting an Upper Triangular Matrix"
   ]
  },
  {
   "cell_type": "markdown",
   "metadata": {},
   "source": [
    "<font color = blue>\n",
    "Now write a function that solves the linear equation\n",
    "\n",
    "$$\n",
    "\\mathbb{R}\\vec{x} = \\vec{b}\n",
    "$$\n",
    "\n",
    "It should take as inputs an upper triangular matrix $\\mathbb{R}$ and a vector $\\vec{b}$, and output a vector $\\vec{x}$.  Test your function by using the upper triangular matrix generated in the first part of this assignment, and the vector\n",
    "\n",
    ".\n",
    "\n",
    "$$\n",
    "\\left[\\begin{array}{c} 1 \\\\ 1 \\\\ 1 \\\\ 1 \\end{array}\\right]\n",
    "$$\n",
    "\n",
    ".\n",
    "\n",
    "Find a matrix $\\mathbb{R}$ for which your function will not work, and explain what goes wrong.  Is there a choice of vector $\\vec{b}$ that will create problems?"
   ]
  },
  {
   "cell_type": "code",
   "execution_count": 4,
   "metadata": {},
   "outputs": [],
   "source": [
    "def invertR(R,b):\n",
    "    if abs(np.linalg.det(R)) < 10**-10:\n",
    "        print('Error: R is non-invertable')\n",
    "        return\n",
    "    return np.matmul(np.linalg.inv(R),b)"
   ]
  },
  {
   "cell_type": "code",
   "execution_count": 5,
   "metadata": {},
   "outputs": [
    {
     "name": "stdout",
     "output_type": "stream",
     "text": [
      "[[ 0.9509176 ]\n",
      " [-1.15786679]\n",
      " [ 0.30302896]\n",
      " [ 0.23385359]]\n",
      "Error: R is non-invertable\n",
      "\n",
      " 0.0 None\n"
     ]
    }
   ],
   "source": [
    "b=np.array([[1.0],[1.0],[1.0],[1.0]])\n",
    "\n",
    "R_bad = np.array([[1., 0., 0.,  0.],\n",
    "                 [ 0.,  1., 0., 0.],\n",
    "                 [ 0.,  0., 0., 0.],\n",
    "                 [ 0.,  0., 0., 1.]])\n",
    "\n",
    "print(invertR(that[1],b))\n",
    "print('\\n',np.linalg.det(R_bad),invertR(R_bad,b))"
   ]
  },
  {
   "cell_type": "markdown",
   "metadata": {},
   "source": [
    "There be daemons if the R vector is not invertable, but concerning the b vector, as long as it's dimensions are correct then there should be no problem."
   ]
  },
  {
   "cell_type": "markdown",
   "metadata": {},
   "source": [
    "### Matrix Inverter"
   ]
  },
  {
   "cell_type": "markdown",
   "metadata": {},
   "source": [
    "<font color = blue>\n",
    "Now use the pieces you have created to solve the general problem\n",
    "\n",
    "$$\n",
    "\\mathbb{M}\\vec{x} = \\vec{b}\n",
    "$$\n",
    "\n",
    "by first decomposing $\\mathbb{M} = \\mathbb{Q}\\mathbb{R}$, and then solving\n",
    "\n",
    "$$\n",
    "\\mathbb{R}\\vec{x} = \\mathbb{Q}^{T}\\vec{b}\n",
    "$$\n",
    "\n",
    "Your function should take as inputs an $N \\times N$ matrix $\\mathbb{M}$, and an $N$-component vector $\\vec{b}$.  Have your function print an error message and return a non-sensical result in the even that $\\mathbb{M}$ is not square, that $\\vec{b}$ does not have the correct number of components, or that $\\mathbb{M}$ is not invertible.\n",
    "\n",
    "Check your code using the matrices and vector we used earlier."
   ]
  },
  {
   "cell_type": "code",
   "execution_count": 6,
   "metadata": {},
   "outputs": [],
   "source": [
    "def invertQ(M,b):\n",
    "    N=len(b)\n",
    "    #check if M is square matrix\n",
    "    if len(M[0]) != len(M[1]):\n",
    "        print(\"Error: M Matrix Not Square\")\n",
    "        return\n",
    "    #check square matrix vs size of b vector\n",
    "    elif len(M[0]) != N:\n",
    "        print(\"Error: B matrix does not match M matrix\")\n",
    "        return\n",
    "    #if the determinant is effectively 0, then it is not invertable\n",
    "    elif abs(np.linalg.det(M)) < 10**(-10):\n",
    "        print(\"Error: M matrix is not Invertable\")\n",
    "        return\n",
    "    else:\n",
    "        Q , R = decomp(M)\n",
    "        return np.matmul(Q.transpose(),b)"
   ]
  },
  {
   "cell_type": "code",
   "execution_count": 7,
   "metadata": {},
   "outputs": [
    {
     "name": "stdout",
     "output_type": "stream",
     "text": [
      "[[-1.00000000e+00]\n",
      " [ 1.00000000e+00]\n",
      " [ 4.16333634e-17]\n",
      " [ 2.77555756e-17]] \n",
      "\n",
      "[[-1.00000000e+00]\n",
      " [ 1.00000000e+00]\n",
      " [-6.18277008e-15]\n",
      " [-6.69844462e-15]]\n"
     ]
    }
   ],
   "source": [
    "matrixM = np.array([[1,2,3,4],[5,6,7,8],[9,10,0,12],[13,14,15,0]])\n",
    "b=np.array([[1.0],[1.0],[1.0],[1.0]])\n",
    "breakDown = decomp(matrixM)\n",
    "Q = breakDown[0]\n",
    "R = breakDown[1]\n",
    "\n",
    "#short cheety way\n",
    "print(np.matmul( np.linalg.inv(matrixM), b) ,'\\n')\n",
    "\n",
    "#Algorithmic Method\n",
    "Qb = invertQ(matrixM,b)\n",
    "#print(Qb)\n",
    "x = invertR(R,Qb)\n",
    "print(x)"
   ]
  },
  {
   "cell_type": "markdown",
   "metadata": {},
   "source": [
    "For all in tents and for poses, These produce the same resule. Yay!"
   ]
  },
  {
   "cell_type": "markdown",
   "metadata": {},
   "source": [
    "## Circuit Analysis"
   ]
  },
  {
   "cell_type": "markdown",
   "metadata": {},
   "source": [
    "### * Circuit 1"
   ]
  },
  {
   "cell_type": "code",
   "execution_count": 8,
   "metadata": {},
   "outputs": [
    {
     "data": {
      "text/html": [
       "\n",
       "        <iframe\n",
       "            width=\"100\"\n",
       "            height=\"50\"\n",
       "            src=\"http://beesbeesbees.com\"\n",
       "            frameborder=\"0\"\n",
       "            allowfullscreen\n",
       "        ></iframe>\n",
       "        "
      ],
      "text/plain": [
       "<IPython.lib.display.IFrame at 0x1973d4d7b48>"
      ]
     },
     "execution_count": 8,
     "metadata": {},
     "output_type": "execute_result"
    }
   ],
   "source": [
    "from IPython.display import IFrame, display\n",
    "filepath = \"http://beesbeesbees.com\" # works with websites too!\n",
    "#filepath = \"circuit.pdf\"\n",
    "IFrame(filepath, width=100, height=50)"
   ]
  },
  {
   "cell_type": "markdown",
   "metadata": {},
   "source": [
    "<font color = blue>\n",
    "Use your matrix inverter to find the currents in the circuit above, analyzed in class.  Choose at least four different sets of values for the resistors and the input voltage, and discuss whether or not the results make physical sense."
   ]
  },
  {
   "cell_type": "markdown",
   "metadata": {},
   "source": [
    "Equations:\n",
    "    $$ i_1 - i_2 - i_3 - i_4 = 0 $$\\\n",
    "    $$ i_2 + i_3 + i_4 - i_5 = 0 $$\\\n",
    "    $$ i_1R_1 + i_2R_2 + i_3R_5 = V_0 $$\\\n",
    "    $$ i_1R_1 + i_2R_3 + i_3R_5 = V_0 $$\\\n",
    "    $$ i_1R_1 + i_2R_4 + i_3R_5 = V_0 $$\n",
    "    "
   ]
  },
  {
   "cell_type": "code",
   "execution_count": 19,
   "metadata": {},
   "outputs": [],
   "source": [
    "#setup: constants and initial matricies\n",
    "#Case 1: Equivalent circut including Vo, R1, R2, R5, adn ground\n",
    "R1 = 100. #ohms\n",
    "R2 = 100. #ohms\n",
    "R3 = 100000000. #ohms\n",
    "R4 = 100000000. #ohms\n",
    "R5 = 100. #ohms\n",
    "Vo = 900. #volts\n",
    "\n",
    "matrixCurcuit1 = np.array([[1.,-1.,-1.,-1.,0.],\n",
    "                           [0.,1.,1.,1.,-1.],\n",
    "                           [R1,R2,0.,0.,R5],\n",
    "                           [R1,0.,R3,0.,R5],\n",
    "                           [R1,0.,0.,R4,R5]])\n",
    "b=np.array([[0.0],[0.0],[Vo],[Vo],[Vo]])\n",
    "cirOne = decomp(matrixCurcuit1)\n",
    "Q = cirOne[0]\n",
    "R = cirOne[1]"
   ]
  },
  {
   "cell_type": "code",
   "execution_count": 20,
   "metadata": {},
   "outputs": [
    {
     "name": "stdout",
     "output_type": "stream",
     "text": [
      "[[3.000002e+00]\n",
      " [2.999996e+00]\n",
      " [2.999996e-06]\n",
      " [2.999996e-06]\n",
      " [3.000002e+00]]\n"
     ]
    }
   ],
   "source": [
    "#Algorithmic Method, produces matrtix containing values of current 1 thorugh 5\n",
    "Qb = invertQ(matrixCurcuit1,b)\n",
    "#print(Qb)\n",
    "x = invertR(R,Qb)\n",
    "print(x)"
   ]
  },
  {
   "cell_type": "markdown",
   "metadata": {},
   "source": [
    "This is testing the circuit analysis by increacing resistances of resitors 3 and 4 to make the circuit effectively one resistor connected between ground and the input voltage, with equivalent resistance equal to the sum of resistors 1, 2, and 5. This would mean through each of these resistors the current it eual to $\\frac{V_o}{R_{1+2+5}} = \\frac{900}{100 + 100 + 100} = 3$, as is seen in the reedout. This case is correct and makes physical sense."
   ]
  },
  {
   "cell_type": "code",
   "execution_count": 21,
   "metadata": {},
   "outputs": [
    {
     "name": "stdout",
     "output_type": "stream",
     "text": [
      "[[ 2.999999e-02]\n",
      " [-5.999998e-08]\n",
      " [ 3.000002e-02]\n",
      " [ 3.000002e-08]\n",
      " [ 2.999999e-02]]\n"
     ]
    }
   ],
   "source": [
    "#Case 2:\n",
    "R1 = 100. #ohms\n",
    "R2 = 100000000. #ohms\n",
    "R3 = 100. #ohms\n",
    "R4 = 100000000. #ohms\n",
    "R5 = 100. #ohms\n",
    "Vo = 9. #volts\n",
    "\n",
    "matrixCurcuit1 = np.array([[1.,-1.,-1.,-1.,0.],\n",
    "                           [0.,1.,1.,1.,-1.],\n",
    "                           [R1,R2,0.,0.,R5],\n",
    "                           [R1,0.,R3,0.,R5],\n",
    "                           [R1,0.,0.,R4,R5]])\n",
    "b=np.array([[0.],[0.0],[0.0],[Vo],[Vo]])\n",
    "cirOne = decomp(matrixCurcuit1)\n",
    "Q = cirOne[0]\n",
    "R = cirOne[1]\n",
    "#Algorithmic Method, produces matrtix containing values of current 1 thorugh 5\n",
    "Qb = invertQ(matrixCurcuit1,b)\n",
    "#print(Qb)\n",
    "x = invertR(R,Qb)\n",
    "print(x)"
   ]
  },
  {
   "cell_type": "markdown",
   "metadata": {},
   "source": [
    "This is testing the circuit analysis by increacing resistances of resitors 2 and 4 to make the circuit effectively one resistor connected between ground and the input voltage, and shows that like the previous test, making the circuit simpler diplays more readily that the solutions agree with the physical equivalent."
   ]
  },
  {
   "cell_type": "code",
   "execution_count": 25,
   "metadata": {},
   "outputs": [
    {
     "name": "stdout",
     "output_type": "stream",
     "text": [
      "[[3.]\n",
      " [1.]\n",
      " [1.]\n",
      " [1.]\n",
      " [3.]]\n"
     ]
    }
   ],
   "source": [
    "#Case 3: \n",
    "R1 = 100. #ohms\n",
    "R2 = 300. #ohms\n",
    "R3 = 300. #ohms\n",
    "R4 = 300. #ohms\n",
    "R5 = 100. #ohms\n",
    "Vo = 900. #volts\n",
    "\n",
    "matrixCurcuit1 = np.array([[1.,-1.,-1.,-1.,0.],\n",
    "                           [0.,1.,1.,1.,-1.],\n",
    "                           [R1,R2,0.,0.,R5],\n",
    "                           [R1,0.,R3,0.,R5],\n",
    "                           [R1,0.,0.,R4,R5]])\n",
    "b=np.array([[0.],[0.0],[Vo],[Vo],[Vo]])\n",
    "cirOne = decomp(matrixCurcuit1)\n",
    "Q = cirOne[0]\n",
    "R = cirOne[1]\n",
    "#Algorithmic Method, produces matrtix containing values of current 1 thorugh 5\n",
    "Qb = invertQ(matrixCurcuit1,b)\n",
    "#print(Qb)\n",
    "x = invertR(R,Qb)\n",
    "print(x)"
   ]
  },
  {
   "cell_type": "markdown",
   "metadata": {},
   "source": [
    "This case is not simplifying the circuit at all, and uses equivalent resistance relations to predict that with three resistors in parallel, each with resistance 300ohms, their equivalent resistance is 100, and so like the previous circuits, the total circuit can be simplified into a voltage source, a 300ohm resistor, and ground."
   ]
  },
  {
   "cell_type": "code",
   "execution_count": 30,
   "metadata": {},
   "outputs": [
    {
     "name": "stdout",
     "output_type": "stream",
     "text": [
      "[[2.91176471]\n",
      " [1.05882353]\n",
      " [0.79411765]\n",
      " [1.05882353]\n",
      " [2.91176471]]\n"
     ]
    }
   ],
   "source": [
    "#Case 4:\n",
    "R1 = 100. #ohms\n",
    "R2 = 300. #ohms\n",
    "R3 = 400. #ohms\n",
    "R4 = 300. #ohms\n",
    "R5 = 100. #ohms\n",
    "Vo = 900. #volts\n",
    "\n",
    "matrixCurcuit1 = np.array([[1.,-1.,-1.,-1.,0.],\n",
    "                           [0.,1.,1.,1.,-1.],\n",
    "                           [R1,R2,0.,0.,R5],\n",
    "                           [R1,0.,R3,0.,R5],\n",
    "                           [R1,0.,0.,R4,R5]])\n",
    "b=np.array([[0.],[0.0],[Vo],[Vo],[Vo]])\n",
    "cirOne = decomp(matrixCurcuit1)\n",
    "Q = cirOne[0]\n",
    "R = cirOne[1]\n",
    "#Algorithmic Method, produces matrtix containing values of current 1 thorugh 5\n",
    "Qb = invertQ(matrixCurcuit1,b)\n",
    "#print(Qb)\n",
    "x = invertR(R,Qb)\n",
    "print(x)"
   ]
  },
  {
   "cell_type": "markdown",
   "metadata": {},
   "source": [
    "This circuit changes the value of one of the center resistances, and should show an increase in current flow through the two other resistors relative tot eh last case. This makes physical sense, as more resistance in one plane means the current will tend more towards a path with less resistance if thats available, which in thic case it is. These cases show that the ideal physical system matches the analytical model."
   ]
  },
  {
   "cell_type": "markdown",
   "metadata": {},
   "source": [
    "### * Circuit 2"
   ]
  },
  {
   "cell_type": "markdown",
   "metadata": {},
   "source": [
    "<font color = blue>\n",
    "Now analyze the circuit below in a similar manner.  This time, you will have to convert the problem into matrix form yourself.  (Include your work on that in the notebook.)"
   ]
  },
  {
   "cell_type": "code",
   "execution_count": 14,
   "metadata": {},
   "outputs": [
    {
     "data": {
      "text/html": [
       "\n",
       "        <iframe\n",
       "            width=\"700\"\n",
       "            height=\"400\"\n",
       "            src=\"https://www.tylervigen.com/spurious-correlations\"\n",
       "            frameborder=\"0\"\n",
       "            allowfullscreen\n",
       "        ></iframe>\n",
       "        "
      ],
      "text/plain": [
       "<IPython.lib.display.IFrame at 0x1973dbb42c8>"
      ]
     },
     "execution_count": 14,
     "metadata": {},
     "output_type": "execute_result"
    }
   ],
   "source": [
    "from IPython.display import IFrame, display\n",
    "filepath = \"https://www.tylervigen.com/spurious-correlations\" # Just a fun website for you to paruse\n",
    "#filepath = \"circuit2.pdf\"\n",
    "IFrame(filepath, width=700, height=400)"
   ]
  },
  {
   "cell_type": "markdown",
   "metadata": {},
   "source": [
    "Using the second example circuit found in lecture notes:\n",
    "Equations: $$ i_2 - i_4 - i_7 = 0 $$\\\n",
    "            $$ i_4 - i_6 - i_8 = 0 $$\\\n",
    "            $$ i_1 - i_3 - i_7 = 0 $$\\\n",
    "            $$ i_3 - i_5 - i_8 = 0 $$\\\n",
    "            $$ i_7R_7 + i_4R_4 + i_8R_8 + i_3R_3 = 0 $$\\\n",
    "            $$ i_8R_8 + i_6R_6 + i_5R_5 = 0 $$\\\n",
    "            $$ i_1R_1 + i_3R_3 + i_5R_5 = V_1 $$\\\n",
    "            $$ i_2R_2 + i_7R_7 + i_1R_1 = V_2-V_1 $$\n",
    "    "
   ]
  },
  {
   "cell_type": "code",
   "execution_count": 15,
   "metadata": {},
   "outputs": [],
   "source": [
    "#setup: constants and initial matricies\n",
    "#Case 1: Reducing Circuit to V1, R1, R3, R5 and Ground\n",
    "R1 = 100. #ohms\n",
    "R2 = 100000000. #ohms\n",
    "R3 = 100. #ohms\n",
    "R4 = 100000000. #ohms\n",
    "R5 = 100. #ohms\n",
    "R6 = 100000000. #ohms\n",
    "R7 = 100. #ohms\n",
    "R8 = 100. #ohms\n",
    "V1 = 9. #volts\n",
    "V2 = 9. #volts\n",
    "\n",
    "matrixCircuit2 = np.array([[0.,1.,0.,-1.,0.,0.,-1.,0.],\n",
    "                    [0.,0.,0.,1.,0.,-1.,0.,-1.],\n",
    "                    [1.,0.,-1.,0.,0.,0.,-1.,0.],\n",
    "                    [0.,0.,1.,0.,-1.,0.,0.,-1.],\n",
    "                    [0.,0.,R3,R4,0.,0.,R7,R8],\n",
    "                    [0.,0.,0.,0.,R5,R6,0.,R8],\n",
    "                    [R1,0.,R3,0.,R5,0.,0.,0.],\n",
    "                    [R1,R2,0.,0.,0.,0.,R7,0.]])\n",
    "b=np.array([[0.],[0.],[0.],[0.],[0.],[0.],[V1],[V2-V1]])\n",
    "cirOne = decomp(matrixCircuit2)\n",
    "Q = cirOne[0]\n",
    "R = cirOne[1]"
   ]
  },
  {
   "cell_type": "code",
   "execution_count": 16,
   "metadata": {},
   "outputs": [
    {
     "name": "stdout",
     "output_type": "stream",
     "text": [
      "[[ 3.00000000e-02]\n",
      " [-3.00000000e-08]\n",
      " [ 3.00000000e-02]\n",
      " [-3.00000000e-08]\n",
      " [ 3.00000000e-02]\n",
      " [-3.00000000e-08]\n",
      " [ 1.02011945e-13]\n",
      " [-6.89759369e-14]]\n"
     ]
    }
   ],
   "source": [
    "#Algorithmic Method, produces matrtix containing values of current 1 thorugh 8 \n",
    "Qb = invertQ(matrixCircuit2,b)\n",
    "#print(Qb)\n",
    "x = invertR(R,Qb)\n",
    "print(x)"
   ]
  },
  {
   "cell_type": "markdown",
   "metadata": {},
   "source": [
    "In this case, the circuit can be reduced to the sum of R1, 2, and 3 experiencing V1. So, $i_{1,3,and\\; 5} = \\frac{V_1}{the \\; sum \\;  of \\; R1, 3, 5} = \\frac{9}{300} = 0.03$, as is seen at each of the specified values of current. "
   ]
  },
  {
   "cell_type": "code",
   "execution_count": 17,
   "metadata": {},
   "outputs": [
    {
     "name": "stdout",
     "output_type": "stream",
     "text": [
      "[[ 3.00000000e-08]\n",
      " [-3.00000000e-02]\n",
      " [ 3.00000000e-08]\n",
      " [-3.00000000e-02]\n",
      " [ 3.00000000e-08]\n",
      " [-3.00000000e-02]\n",
      " [ 2.02189423e-13]\n",
      " [ 1.97341748e-14]]\n"
     ]
    }
   ],
   "source": [
    "#Case 2: Reducing Circuit to V2, R2, R4, R6 and Ground\n",
    "R1 = 100000000. #ohms\n",
    "R2 = 100. #ohms\n",
    "R3 = 100000000. #ohms\n",
    "R4 = 100. #ohms\n",
    "R5 = 100000000. #ohms\n",
    "R6 = 100. #ohms\n",
    "R7 = 100. #ohms\n",
    "R8 = 100. #ohms\n",
    "V1 = 9. #volts\n",
    "V2 = 9. #volts\n",
    "\n",
    "matrixCircuit2 = np.array([[0.,1.,0.,-1.,0.,0.,-1.,0.],\n",
    "                    [0.,0.,0.,1.,0.,-1.,0.,-1.],\n",
    "                    [1.,0.,-1.,0.,0.,0.,-1.,0.],\n",
    "                    [0.,0.,1.,0.,-1.,0.,0.,-1.],\n",
    "                    [0.,0.,R3,R4,0.,0.,R7,R8],\n",
    "                    [0.,0.,0.,0.,R5,R6,0.,R8],\n",
    "                    [R1,0.,R3,0.,R5,0.,0.,0.],\n",
    "                    [R1,R2,0.,0.,0.,0.,R7,0.]])\n",
    "b=np.array([[0.],[0.],[0.],[0.],[0.],[0.],[V1],[V2-V1]])\n",
    "cirOne = decomp(matrixCircuit2)\n",
    "Q = cirOne[0]\n",
    "R = cirOne[1]\n",
    "#Algorithmic Method, produces matrtix containing values of current 1 thorugh 8 \n",
    "Qb = invertQ(matrixCircuit2,b)\n",
    "#print(Qb)\n",
    "x = invertR(R,Qb)\n",
    "print(x)"
   ]
  },
  {
   "cell_type": "markdown",
   "metadata": {},
   "source": [
    "Again, this is reducing the circuit to a path from $V_2$ this time to ground, through R2, R4, and R6. Again the value of 0.03 amps shoudl be found in $i_{2,4,6}$ as is produced in this model. Both of these sanple cases show sensible reactions, and the values of current in resistors I'm not interested in behave as expected, being small with respect to the high resistance of their resistors. "
   ]
  },
  {
   "cell_type": "code",
   "execution_count": 31,
   "metadata": {},
   "outputs": [
    {
     "name": "stdout",
     "output_type": "stream",
     "text": [
      "[[ 3.00008900e-02]\n",
      " [ 2.99991000e-02]\n",
      " [ 8.79998200e-07]\n",
      " [-9.09998180e-07]\n",
      " [ 9.09998920e-07]\n",
      " [-8.79999665e-07]\n",
      " [ 3.00000100e-02]\n",
      " [-2.99992554e-08]]\n",
      "\n",
      " [[ 2.99999800e-02]\n",
      " [ 3.00000100e-02]\n",
      " [-2.99999800e-08]\n",
      " [-4.73622032e-19]\n",
      " [-2.21452370e-13]\n",
      " [ 2.99999523e-08]\n",
      " [ 3.00000100e-02]\n",
      " [-2.99997309e-08]]\n"
     ]
    }
   ],
   "source": [
    "#Case 3: Reducing Circuit to V2, R2, R7, R1 and V1 as Ground\n",
    "R1 = 100. #ohms\n",
    "R2 = 100. #ohms\n",
    "R3 = 100000000. #ohms\n",
    "R4 = 100000000. #ohms\n",
    "R5 = 100. #ohms\n",
    "R6 = 100. #ohms\n",
    "R7 = 100. #ohms\n",
    "R8 = 100. #ohms\n",
    "\n",
    "V1 = 91. #volts\n",
    "V2 = 100. #volts\n",
    "\n",
    "matrixCircuit2 = np.array([[0.,1.,0.,-1.,0.,0.,-1.,0.],\n",
    "                    [0.,0.,0.,1.,0.,-1.,0.,-1.],\n",
    "                    [1.,0.,-1.,0.,0.,0.,-1.,0.],\n",
    "                    [0.,0.,1.,0.,-1.,0.,0.,-1.],\n",
    "                    [0.,0.,R3,R4,0.,0.,R7,R8],\n",
    "                    [0.,0.,0.,0.,R5,R6,0.,R8],\n",
    "                    [R1,0.,R3,0.,R5,0.,0.,0.],\n",
    "                    [R1,R2,0.,0.,0.,0.,R7,0.]])\n",
    "b=np.array([[0.],[0.],[0.],[0.],[0.],[0.],[V1],[V2-V1]])\n",
    "cirOne = decomp(matrixCircuit2)\n",
    "Q = cirOne[0]\n",
    "R = cirOne[1]\n",
    "#Algorithmic Method, produces matrtix containing values of current 1 thorugh 8 \n",
    "Qb = invertQ(matrixCircuit2,b)\n",
    "#print(Qb)\n",
    "\n",
    "x = invertR(R,Qb)\n",
    "print(x)\n",
    "R1 = 100. #ohms\n",
    "R2 = 100. #ohms\n",
    "R3 = 100000000. #ohms\n",
    "R4 = 100000000. #ohms\n",
    "R5 = 100. #ohms\n",
    "R6 = 100. #ohms\n",
    "R7 = 100. #ohms\n",
    "R8 = 100. #ohms\n",
    "\n",
    "V1 = 0. #volts\n",
    "V2 = 9. #volts\n",
    "\n",
    "matrixCircuit2 = np.array([[0.,1.,0.,-1.,0.,0.,-1.,0.],\n",
    "                    [0.,0.,0.,1.,0.,-1.,0.,-1.],\n",
    "                    [1.,0.,-1.,0.,0.,0.,-1.,0.],\n",
    "                    [0.,0.,1.,0.,-1.,0.,0.,-1.],\n",
    "                    [0.,0.,R3,R4,0.,0.,R7,R8],\n",
    "                    [0.,0.,0.,0.,R5,R6,0.,R8],\n",
    "                    [R1,0.,R3,0.,R5,0.,0.,0.],\n",
    "                    [R1,R2,0.,0.,0.,0.,R7,0.]])\n",
    "b=np.array([[0.],[0.],[0.],[0.],[0.],[0.],[V1],[V2-V1]])\n",
    "cirOne = decomp(matrixCircuit2)\n",
    "Q = cirOne[0]\n",
    "R = cirOne[1]\n",
    "#Algorithmic Method, produces matrtix containing values of current 1 thorugh 8 \n",
    "Qb = invertQ(matrixCircuit2,b)\n",
    "#print(Qb)\n",
    "x = invertR(R,Qb)\n",
    "print(\"\\n\",x)"
   ]
  },
  {
   "cell_type": "markdown",
   "metadata": {},
   "source": [
    "This final case illustrates the interaction between voltage sources, focussing ont eh loop from V2 through resistors R2m R7, and R1, with the voltage difference between V2 and V1 making V1 act as ground. This is equivalent to V2 being 9 and V1 being ground, as seen in the comparison from the first output to the second. This is confirmed by the equivalent values of resistors not including R3,R4,R5,R6 and R8, effictively removing the actual ground from the circuit. Currents through R1,R2, and R7 are the same in both instances, as expected- this gives me faith that this system is an accurate/ideal representation of this circuit"
   ]
  },
  {
   "cell_type": "markdown",
   "metadata": {},
   "source": [
    "## Final Project Work"
   ]
  },
  {
   "cell_type": "markdown",
   "metadata": {},
   "source": [
    "<font color = blue>\n",
    "Turn in your \"final project\" notebook as well, updated to include your work from this week.\n",
    "\n",
    "At the end, include a brief discussion of what you *intended* to accomplish as compared with what you *did* accomplish, as well as a plan for the rest of the project."
   ]
  },
  {
   "cell_type": "code",
   "execution_count": null,
   "metadata": {},
   "outputs": [],
   "source": []
  }
 ],
 "metadata": {
  "kernelspec": {
   "display_name": "Python 3",
   "language": "python",
   "name": "python3"
  },
  "language_info": {
   "codemirror_mode": {
    "name": "ipython",
    "version": 3
   },
   "file_extension": ".py",
   "mimetype": "text/x-python",
   "name": "python",
   "nbconvert_exporter": "python",
   "pygments_lexer": "ipython3",
   "version": "3.7.4"
  }
 },
 "nbformat": 4,
 "nbformat_minor": 2
}
